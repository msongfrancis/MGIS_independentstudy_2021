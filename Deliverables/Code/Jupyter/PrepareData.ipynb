{
 "cells": [
  {
   "cell_type": "markdown",
   "metadata": {},
   "source": [
    "## Preparing E-scooter data\n",
    "\n",
    "This script joins tabular e-scooter data from different years with demographic data and spatial census tracts and is intended to compute total trip counts from starting trip centerlines. The datasets outputted are intended to be used as inputs for machine learning regressions to predict total trips based on demographic values. \n",
    "\n",
    "The script requires the pandas module and ArcGIS pro license.\n",
    "\n",
    "Data sources: ACS-Survey 2014-2018 5-year Estimates, ACS-Survey 2015-2019 5-year Estimates, City of Minneapolis, U.S. Census Bureau"
   ]
  },
  {
   "cell_type": "code",
   "execution_count": 1,
   "metadata": {},
   "outputs": [],
   "source": [
    "import os\n",
    "import pandas as pd"
   ]
  },
  {
   "cell_type": "code",
   "execution_count": 2,
   "metadata": {},
   "outputs": [],
   "source": [
    "data_dir = r\"C:\\Users\\msong\\Desktop\\Independent proj\\data\\scooter_mpls\" #scooter trips\n",
    "# data_dir = r\"C:\\Users\\msong\\Desktop\\Independent proj\\data\\nhgis0020_csv\" #census tables\n",
    "os.chdir(data_dir)"
   ]
  },
  {
   "cell_type": "code",
   "execution_count": 3,
   "metadata": {},
   "outputs": [],
   "source": [
    "def reformat_scooter_tables(in_table,columns,data_yr):\n",
    "    \"\"\" Computes a table with the data year and the total escooter trips for the\n",
    "    street centerline and outputs a csv file.\n",
    "    \n",
    "    Parameters:\n",
    "    -----------\n",
    "    in_table: csv\n",
    "        The escooter trip table with multiple years of data in one table. \n",
    "    columns: list or str\n",
    "        The fields of interest to be used when reading the in_table\n",
    "    data_yr: list\n",
    "        The years for the data present in the in_table\n",
    "        \n",
    "    Output\n",
    "    ------\n",
    "    csv file: csv\n",
    "        Table with newly calculated TripIDs and total trip counts for\n",
    "        each centerline in dataset.\n",
    "    \"\"\"\n",
    "    \n",
    "    df = pd.read_csv(os.path.join(data_dir, in_table), usecols=columns)\n",
    "    df[\"TripID\"] = data_yr + df[\"TripID\"].astype(str) # create unique ID with year\n",
    "    df_count = df.groupby(['StartCenterlineID']).count()\n",
    "    df[\"StartCenterlineID\"] = df[\"StartCenterlineID\"].astype(str)\n",
    "    df_count = df_count[['TripID']]\n",
    "    df_count = df_count.rename(columns = {'TripID':f'TripCount'})\n",
    "    df_count[\"year\"] = f\"{data_yr}\"\n",
    "    df_count.to_csv(f\"escooter_tripcount_{data_yr}.csv\", index=True)\n",
    "\n",
    "# Columns of interest    \n",
    "columns = [\"TripID\",\n",
    "           \"TripDuration\", \n",
    "           \"TripDistance\", \n",
    "           \"StartTime\", \n",
    "           \"EndTime\", \n",
    "           \"StartCenterlineID\", \n",
    "           \"EndCenterlineID\"]\n",
    "data_yrs = [\"2018\",\"2019\"]\n",
    "\n",
    "\n",
    "in_table = f\"Motorized_Foot_Scooter_Trips_{data_yrs[0]}.csv\"\n",
    "reformat_scooter_tables(in_table,columns,data_yrs[0])\n",
    "\n",
    "in_table = f\"Motorized_Foot_Scooter_Trips_{data_yrs[1]}.csv\"\n",
    "reformat_scooter_tables(in_table,columns,data_yrs[1])"
   ]
  },
  {
   "cell_type": "code",
   "execution_count": 4,
   "metadata": {},
   "outputs": [],
   "source": [
    "escooter18 = pd.read_csv(os.path.join(data_dir,\"escooter_tripcount_2018.csv\"))\n",
    "escooter19 = pd.read_csv(os.path.join(data_dir,\"escooter_tripcount_2019.csv\"))"
   ]
  },
  {
   "cell_type": "code",
   "execution_count": 6,
   "metadata": {},
   "outputs": [
    {
     "data": {
      "text/html": [
       "<div>\n",
       "<style scoped>\n",
       "    .dataframe tbody tr th:only-of-type {\n",
       "        vertical-align: middle;\n",
       "    }\n",
       "\n",
       "    .dataframe tbody tr th {\n",
       "        vertical-align: top;\n",
       "    }\n",
       "\n",
       "    .dataframe thead th {\n",
       "        text-align: right;\n",
       "    }\n",
       "</style>\n",
       "<table border=\"1\" class=\"dataframe\">\n",
       "  <thead>\n",
       "    <tr style=\"text-align: right;\">\n",
       "      <th></th>\n",
       "      <th>StartCenterlineID</th>\n",
       "      <th>TripCount</th>\n",
       "      <th>year</th>\n",
       "    </tr>\n",
       "  </thead>\n",
       "  <tbody>\n",
       "    <tr>\n",
       "      <th>0</th>\n",
       "      <td>10011</td>\n",
       "      <td>1</td>\n",
       "      <td>2018</td>\n",
       "    </tr>\n",
       "    <tr>\n",
       "      <th>1</th>\n",
       "      <td>10017</td>\n",
       "      <td>4</td>\n",
       "      <td>2018</td>\n",
       "    </tr>\n",
       "    <tr>\n",
       "      <th>2</th>\n",
       "      <td>10037</td>\n",
       "      <td>1</td>\n",
       "      <td>2018</td>\n",
       "    </tr>\n",
       "    <tr>\n",
       "      <th>3</th>\n",
       "      <td>10064</td>\n",
       "      <td>1</td>\n",
       "      <td>2018</td>\n",
       "    </tr>\n",
       "    <tr>\n",
       "      <th>4</th>\n",
       "      <td>10081</td>\n",
       "      <td>2</td>\n",
       "      <td>2018</td>\n",
       "    </tr>\n",
       "  </tbody>\n",
       "</table>\n",
       "</div>"
      ],
      "text/plain": [
       "  StartCenterlineID  TripCount  year\n",
       "0             10011          1  2018\n",
       "1             10017          4  2018\n",
       "2             10037          1  2018\n",
       "3             10064          1  2018\n",
       "4             10081          2  2018"
      ]
     },
     "execution_count": 6,
     "metadata": {},
     "output_type": "execute_result"
    }
   ],
   "source": [
    "escooter18.head()"
   ]
  },
  {
   "cell_type": "code",
   "execution_count": 5,
   "metadata": {},
   "outputs": [],
   "source": [
    "escooter18[\"StartCenterlineID\"] = escooter18[\"StartCenterlineID\"].astype(str)\n",
    "escooter19[\"StartCenterlineID\"] = escooter19[\"StartCenterlineID\"].astype(str)"
   ]
  },
  {
   "cell_type": "code",
   "execution_count": null,
   "metadata": {},
   "outputs": [],
   "source": [
    "tripcounts = pd.concat([escooter18,escooter19]) # combine data as one dataframe\n",
    "tripcounts.to_csv(os.path.join(data_dir,\"tripcounts.csv\"),index=False)"
   ]
  },
  {
   "cell_type": "code",
   "execution_count": null,
   "metadata": {},
   "outputs": [],
   "source": [
    "# import tripcounts into working file geodatabase\n",
    "arcpy.conversion.TableToTable(f\"{os.path.join(data_dir,'tripcounts.csv')}\", \n",
    "                              arcpy.env.workspace, \n",
    "                              \"tripcounts\")"
   ]
  },
  {
   "cell_type": "code",
   "execution_count": null,
   "metadata": {},
   "outputs": [],
   "source": [
    "# determine which census tract each street centerline falls in\n",
    "arcpy.analysis.SpatialJoin(\"mpls_streetcenterlines\", \n",
    "                           \"mpls_censustracts_2010\", \n",
    "                           \"mpls_streetcenterlines_sj\", \n",
    "                           \"JOIN_ONE_TO_ONE\", \n",
    "                           \"KEEP_ALL\"\n",
    "                          )\n",
    "\n",
    "# convert GBSID (joining field) to text for joining\n",
    "arcpy.management.AddField(\"mpls_streetcenterlines_sj\", \n",
    "                          \"GBSID_str\", \n",
    "                          \"TEXT\")\n",
    "arcpy.management.CalculateField(\"mpls_streetcenterlines_sj\", \n",
    "                                \"GBSID_str\", \n",
    "                                \"!GBSID!\", \n",
    "                                \"PYTHON3\", \n",
    "                                '', \n",
    "                                \"TEXT\")"
   ]
  },
  {
   "cell_type": "code",
   "execution_count": null,
   "metadata": {},
   "outputs": [],
   "source": [
    "# convert GISJOINID (joining field) to text for joining\n",
    "arcpy.management.AddField(\"tripcounts\", \n",
    "                          \"GISJOINID\", \n",
    "                          \"TEXT\")\n",
    "\n",
    "# join trip counts with street centerlines spatially\n",
    "arcpy.management.AddJoin(\"tripcounts\", \n",
    "                         \"StartCenterlineID\", \n",
    "                         \"mpls_streetcenterlines_sj\", \n",
    "                         \"GBSID_str\", \n",
    "                         \"KEEP_COMMON\")\n",
    "\n",
    "# copy field from joining to the spatial features\n",
    "arcpy.management.CalculateField(\"tripcounts\", \n",
    "                                \"tripcounts.GISJOINID\", \n",
    "                                \"!mpls_streetcenterlines_sj.GISJOIN!\", \n",
    "                                \"PYTHON3\", \n",
    "                                '', \n",
    "                                \"TEXT\")"
   ]
  },
  {
   "cell_type": "code",
   "execution_count": null,
   "metadata": {},
   "outputs": [],
   "source": [
    "# remove join\n",
    "arcpy.management.RemoveJoin(\"tripcounts\", \n",
    "                            \"mpls_streetcenterlines_sj\")"
   ]
  },
  {
   "cell_type": "code",
   "execution_count": null,
   "metadata": {},
   "outputs": [],
   "source": [
    "# calculate trip counts for each census tract\n",
    "arcpy.analysis.Statistics(\"tripcounts\", \n",
    "                          \"tripcounts_stats\", \n",
    "                          \"TripCount SUM\", \n",
    "                          \"year;GISJOINID\")"
   ]
  },
  {
   "cell_type": "code",
   "execution_count": null,
   "metadata": {},
   "outputs": [],
   "source": [
    "# create a new ID with the year concatenated is obtained from\n",
    "arcpy.management.AddField(\"tripcounts_stats\", \n",
    "                          \"joinid_yr\", \n",
    "                          \"TEXT\")\n",
    "\n",
    "codeblock = \"\"\"\n",
    "def concatenate(x,y):\n",
    "    if x == \"<Null>\":\n",
    "        x = None\n",
    "        return x\n",
    "    else:\n",
    "        field = f\"{x}_{str(y)}\"\n",
    "        return field\n",
    "\n",
    "\"\"\"\n",
    "arcpy.management.CalculateField(\"tripcounts_stats\", \n",
    "                                \"joinid_yr\", \n",
    "                                \"concatenate(!GISJOINID!,!year!)\", \n",
    "                                \"PYTHON3\", \n",
    "                                codeblock,\n",
    "                                \"TEXT\")\n"
   ]
  },
  {
   "cell_type": "code",
   "execution_count": null,
   "metadata": {},
   "outputs": [],
   "source": []
  },
  {
   "cell_type": "markdown",
   "metadata": {},
   "source": [
    "## Processing Demographic Data"
   ]
  },
  {
   "cell_type": "markdown",
   "metadata": {},
   "source": [
    "#### 2018 demographic Data"
   ]
  },
  {
   "cell_type": "code",
   "execution_count": null,
   "metadata": {},
   "outputs": [],
   "source": [
    "# data_dir = r\"C:\\Users\\msong\\Desktop\\Independent proj\\data\\scooter_mpls\" #scooter trips\n",
    "data_dir = r\"C:\\Users\\msong\\Desktop\\Independent proj\\data\\nhgis0020_csv\" #census tables\n",
    "os.chdir(data_dir)\n",
    "\n",
    "census_2018 = \"nhgis0020_ds239_20185_tract.csv\"\n",
    "cols = [\"GISJOIN\",\n",
    "        \"STATE\",\n",
    "        \"STATEA\",\n",
    "        \"COUNTY\",\n",
    "        \"COUNTYA\",\n",
    "        \"TRACTA\",\n",
    "        \"AJWNE001\", # total pop per tract\n",
    "        \"AJWNE002\", # total white pop per tract\n",
    "        \"AJYPE001\", # total pop per tract\n",
    "        \"AJYPE017\", # highschool\n",
    "        \"AJYPE018\", # GED or alt credential\n",
    "        \"AJYPE019\", # some college, less than 1 yr\n",
    "        \"AJYPE020\", # some college, 1 or more yrs\n",
    "        \"AJYPE021\", # associate's degree\n",
    "        \"AJYPE022\", # bachelor's degree\n",
    "        \"AJYPE023\", # master's degree\n",
    "        \"AJYPE024\", # professional school degree\n",
    "        \"AJYPE025\", # doctorate degree\n",
    "        \"AJZAE001\"  # med hh inc\n",
    "       ]\n",
    "\n",
    "c18_df = pd.read_csv(os.path.join(data_dir,census_2018),usecols=cols,encoding='latin-1')\n",
    "\n",
    "# reduce to state of MN and Hennepin County\n",
    "h18_df = c18_df.loc[(c18_df[\"STATEA\"]==27) & (c18_df[\"COUNTYA\"]==53)].copy()\n",
    "\n",
    "# calculate percentage non-white for each tract\n",
    "h18_df[\"percent_nonwhite\"] = 1 - (h18_df[\"AJWNE002\"]/ h18_df[\"AJWNE001\"])\n",
    "\n",
    "# calculate population with highschool education or above for each tract\n",
    "h18_df[\"percent_hsandabv\"] = (h18_df.iloc[0:,9:18].sum(axis=1)) / h18_df[\"AJWNE001\"]\n",
    "\n",
    "# rescale median household income on a scale of 0-1\n",
    "# minmax scaling\n",
    "a, b = 0, 1 \n",
    "x, y = h18_df.AJZAE001.min(), h18_df.AJZAE001.max()\n",
    "h18_df[\"medhhinc_normal\"] = (h18_df.AJZAE001 - x) / (y - x) * (b - a) + a\n",
    "h18_df[\"year\"] = \"2018\""
   ]
  },
  {
   "cell_type": "code",
   "execution_count": null,
   "metadata": {},
   "outputs": [],
   "source": [
    "h18_df.head()"
   ]
  },
  {
   "cell_type": "code",
   "execution_count": null,
   "metadata": {},
   "outputs": [],
   "source": [
    "# drop unneccessary columns \n",
    "h18_df = h18_df[[\"GISJOIN\",\n",
    "                 \"year\",\n",
    "                 \"AJWNE001\",\n",
    "                \"percent_nonwhite\",\n",
    "                \"percent_hsandabv\",\n",
    "                \"medhhinc_normal\",\n",
    "                \"AJZAE001\"]]\n",
    "\n",
    "# rename column\n",
    "h18_df = h18_df.rename(columns = {\"AJZAE001\": \"med_hh_inc\",\"AJWNE001\":\"total_pop\"})"
   ]
  },
  {
   "cell_type": "markdown",
   "metadata": {},
   "source": [
    "#### 2019 Demographic Data"
   ]
  },
  {
   "cell_type": "code",
   "execution_count": null,
   "metadata": {},
   "outputs": [],
   "source": [
    "census_2019 = \"nhgis0020_ds244_20195_tract.csv\"\n",
    "columns = [\"GISJOIN\",\n",
    "           \"STATE\",\n",
    "           \"STATEA\",\n",
    "           \"COUNTY\",\n",
    "           \"COUNTYA\",\n",
    "           \"TRACTA\",\n",
    "          \"ALUCE001\", # total pop per tract\n",
    "          \"ALUCE002\", # total white pop per tract\n",
    "          \"ALWGE001\", # total pop per tract\n",
    "          \"ALWGE017\", # highschool\n",
    "          \"ALWGE018\", # GED or alt credential\n",
    "          \"ALWGE019\", # some college, less than 1 yr\n",
    "          \"ALWGE020\", # some college, 1 or more yrs\n",
    "          \"ALWGE021\", # associate's degree\n",
    "          \"ALWGE022\", # bachelor's degree\n",
    "          \"ALWGE023\", # master's degree\n",
    "          \"ALWGE024\", # professional school degree\n",
    "          \"ALWGE025\", # doctorate degree\n",
    "          \"ALW1E001\"] # med hh inc"
   ]
  },
  {
   "cell_type": "code",
   "execution_count": null,
   "metadata": {},
   "outputs": [],
   "source": [
    "c19_df = pd.read_csv(os.path.join(data_dir,census_2019),\n",
    "                     usecols=columns,\n",
    "                    encoding='latin-1')"
   ]
  },
  {
   "cell_type": "code",
   "execution_count": null,
   "metadata": {},
   "outputs": [],
   "source": [
    "# reduce to state of MN and Hennepin County\n",
    "h19_df = c19_df.loc[(c19_df[\"STATEA\"]==27) & (c19_df[\"COUNTYA\"]==53)].copy()\n",
    "\n",
    "# calculate percentage non-white for each tract\n",
    "h19_df[\"percent_nonwhite\"] = 1 - (h19_df[\"ALUCE002\"]/ h19_df[\"ALUCE001\"])\n",
    "\n",
    "# calculate population with highschool education or above for each tract\n",
    "h19_df[\"percent_hsandabv\"] = (h19_df.iloc[0:,9:18].sum(axis=1)) / h19_df[\"ALWGE001\"]\n",
    "\n",
    "# rescale median household income on a scale of 0-1\n",
    "# minmax scaling\n",
    "a, b = 0, 1 \n",
    "x, y = h19_df.ALW1E001.min(), h19_df.ALW1E001.max()\n",
    "h19_df[\"medhhinc_normal\"] = (h19_df.ALW1E001 - x) / (y - x) * (b - a) + a\n",
    "h19_df[\"year\"]=\"2019\""
   ]
  },
  {
   "cell_type": "code",
   "execution_count": null,
   "metadata": {},
   "outputs": [],
   "source": [
    "# drop unneccessary columns \n",
    "h19_df = h19_df[[\"GISJOIN\",\n",
    "                 \"year\",\n",
    "                 \"ALUCE001\",\n",
    "                \"percent_nonwhite\",\n",
    "                \"percent_hsandabv\",\n",
    "                \"medhhinc_normal\",\n",
    "                \"ALW1E001\"]]\n",
    "\n",
    "# rename column\n",
    "h19_df = h19_df.rename(columns = {\"ALW1E001\": \"med_hh_inc\",\"ALUCE001\":\"total_pop\"})"
   ]
  },
  {
   "cell_type": "code",
   "execution_count": null,
   "metadata": {},
   "outputs": [],
   "source": [
    "# merge each year into one dataframe to join with spatial\n",
    "mdf = pd.concat([h18_df,h19_df])"
   ]
  },
  {
   "cell_type": "code",
   "execution_count": null,
   "metadata": {},
   "outputs": [],
   "source": [
    "mdf.to_csv(os.path.join(data_dir,\"demographics.csv\"),index=False)"
   ]
  },
  {
   "cell_type": "code",
   "execution_count": null,
   "metadata": {},
   "outputs": [],
   "source": [
    "arcpy.conversion.TableToTable(os.path.join(data_dir,\"demographics.csv\"), \n",
    "                              arcpy.env.workspace, \n",
    "                              \"demographics\")\n",
    "\n",
    "# calculate population density\n",
    "arcpy.management.AddField(\"demographics\", \n",
    "                          \"popdens_sqmi\", \n",
    "                          \"DOUBLE\")\n",
    "\n",
    "arcpy.management.AddJoin(\"demographics\", \n",
    "                         \"GISJOIN\", \n",
    "                         \"mpls_censustracts_2010\", \n",
    "                         \"GISJOIN\", \n",
    "                         \"KEEP_ALL\")\n",
    "\n",
    "arcpy.management.CalculateField(\"demographics\", \n",
    "                                \"demographics.popdens_sqmi\", \n",
    "                                \"!demographics.total_pop!/!mpls_censustracts_2010.area_sqmile!\"\n",
    "                               )\n",
    "arcpy.management.RemoveJoin(\"demographics\", \"mpls_censustracts_2010\")"
   ]
  },
  {
   "cell_type": "code",
   "execution_count": null,
   "metadata": {},
   "outputs": [],
   "source": [
    "# create a join field for each census tract for each yearly dataset\n",
    "arcpy.management.AddField(\"demographics\", \n",
    "                          \"joinid_yrdem\", \n",
    "                          \"TEXT\")"
   ]
  },
  {
   "cell_type": "code",
   "execution_count": null,
   "metadata": {},
   "outputs": [],
   "source": [
    "codeblock = \"\"\"\n",
    "def concatenate(x,y):\n",
    "    if x == \"<Null>\":\n",
    "        x = None\n",
    "        return x\n",
    "    else:\n",
    "        field = f\"{x}_{str(y)}\"\n",
    "        return field\n",
    "\n",
    "\"\"\"\n",
    "arcpy.management.CalculateField(\"demographics\", \n",
    "                                \"joinid_yrdem\", \n",
    "                                \"concatenate(!GISJOIN!,!year!)\", \n",
    "                                \"PYTHON3\", \n",
    "                                codeblock,\n",
    "                                \"TEXT\")\n",
    "\n",
    "# join trip counts with demographic data\n",
    "arcpy.management.AddJoin(\"tripcounts_stats\", \n",
    "                         \"joinid_yr\", \n",
    "                         \"demographics\", \n",
    "                         \"joinid_yrdem\", \n",
    "                         \"KEEP_ALL\")"
   ]
  },
  {
   "cell_type": "code",
   "execution_count": null,
   "metadata": {},
   "outputs": [],
   "source": [
    "# import table into working file geodatabase\n",
    "arcpy.conversion.TableToTable(\"tripcounts_stats\", \n",
    "                              r\"C:\\Users\\msong\\Desktop\\Independent proj\\escooter_ML\", \n",
    "                              \"escooter_all.csv\", \n",
    "                              '', \n",
    "                              'GISJOIN \"GISJOIN\" true true false 8000 Text 0 0,First,#,tripcounts_stats,demographics.GISJOIN,0,8000;year \"year\" true true false 4 Long 0 0,First,#,tripcounts_stats,tripcounts_stats.year,-1,-1;SUM_TripCount \"SUM_TripCount\" true true false 8 Double 0 0,First,#,tripcounts_stats,tripcounts_stats.SUM_TripCount,-1,-1;total_pop \"total_pop\" true true false 4 Long 0 0,First,#,tripcounts_stats,demographics.total_pop,-1,-1;percent_nonwhite \"percent_nonwhite\" true true false 8 Double 0 0,First,#,tripcounts_stats,demographics.percent_nonwhite,-1,-1;percent_hsandabv \"percent_hsandabv\" true true false 8 Double 0 0,First,#,tripcounts_stats,demographics.percent_hsandabv,-1,-1;medhhinc_normal \"medhhinc_normal\" true true false 8 Double 0 0,First,#,tripcounts_stats,demographics.medhhinc_normal,-1,-1;med_hh_inc \"med_hh_inc\" true true false 8 Double 0 0,First,#,tripcounts_stats,demographics.med_hh_inc,-1,-1;popdens_sqmi \"popdens_sqmi\" true true false 8 Double 0 0,First,#,tripcounts_stats,demographics.popdens_sqmi,-1,-1',\n",
    "                              '')"
   ]
  },
  {
   "cell_type": "code",
   "execution_count": null,
   "metadata": {},
   "outputs": [],
   "source": []
  }
 ],
 "metadata": {
  "kernelspec": {
   "display_name": "ArcGISPro",
   "language": "Python",
   "name": "python3"
  },
  "language_info": {
   "file_extension": ".py",
   "name": "python",
   "version": "3"
  }
 },
 "nbformat": 4,
 "nbformat_minor": 4
}
