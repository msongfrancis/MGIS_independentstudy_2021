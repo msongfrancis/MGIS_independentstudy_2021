{
 "cells": [
  {
   "cell_type": "markdown",
   "metadata": {},
   "source": [
    "## Train and Classify - Enriched Block Groups\n",
    "\n",
    "This script explores different machine learning regressions to predict total e-scooter trip counts for census block groups in Minneapolis MN. The demographic data is sourced from ESRI Enrich tool. The regressions explored are Random Forest, Linear, and Ridge regression. \n",
    "\n",
    "The script requires sklearn, pandas, and an ArcGIS pro license.\n",
    "\n",
    "Data sources: ACS-Survey 2014-2018 5-year Estimates, ACS-Survey 2015-2019 5-year Estimates, City of Minneapolis, U.S. Census Bureau"
   ]
  },
  {
   "cell_type": "code",
   "execution_count": 9,
   "metadata": {},
   "outputs": [],
   "source": [
    "import pandas as pd\n",
    "from sklearn.linear_model import LinearRegression, Ridge\n",
    "from sklearn.metrics import mean_absolute_error\n",
    "from sklearn.linear_model import PoissonRegressor\n",
    "from sklearn.model_selection import train_test_split\n",
    "from sklearn import metrics\n",
    "from sklearn import preprocessing\n",
    "from sklearn.ensemble import RandomForestClassifier\n",
    "import os"
   ]
  },
  {
   "cell_type": "code",
   "execution_count": 879,
   "metadata": {},
   "outputs": [],
   "source": [
    "file_path = f\"C:/Users/msong/Desktop/Independent proj/mpls_blkgrps_2010_join.csv\"\n",
    "\n",
    "# fields for demographic data to be used in regressions\n",
    "cols = ['geoid_text',\n",
    "        'populationtotals_totpop_cy',\n",
    "        'populationtotals_popdens_cy', \n",
    "        'householdincome_medhinc_cy_i',\n",
    "        'foodstampssnap_acssnap_p', \n",
    "        'raceandhispanicorigin_divindx_cy',\n",
    "        'educationalattainment_acssomehs_p', \n",
    "        'atrisk_acshhbpov_p',\n",
    "        'trip_count_start', \n",
    "        'trip_count_end'\n",
    "       ]\n",
    "\n",
    "df = pd.read_csv(file_path,usecols=cols)"
   ]
  },
  {
   "cell_type": "code",
   "execution_count": 881,
   "metadata": {},
   "outputs": [
    {
     "data": {
      "text/plain": [
       "count    4.160000e+02\n",
       "mean     2.705307e+11\n",
       "std      6.524876e+05\n",
       "min      2.705300e+11\n",
       "25%      2.705301e+11\n",
       "50%      2.705310e+11\n",
       "75%      2.705311e+11\n",
       "max      2.705398e+11\n",
       "Name: geoid_text, dtype: float64"
      ]
     },
     "execution_count": 881,
     "metadata": {},
     "output_type": "execute_result"
    }
   ],
   "source": [
    "# statistics about fields\n",
    "df[\"geoid_text\"].describe()"
   ]
  },
  {
   "cell_type": "code",
   "execution_count": 882,
   "metadata": {},
   "outputs": [],
   "source": [
    "# create df that do not correspond with a census tract\n",
    "empty_df = df.loc[(df['trip_count_start'].isna())]"
   ]
  },
  {
   "cell_type": "code",
   "execution_count": 883,
   "metadata": {},
   "outputs": [],
   "source": [
    "# dataset with no null vals\n",
    "data = df[df['trip_count_start'].notnull()]"
   ]
  },
  {
   "cell_type": "code",
   "execution_count": 884,
   "metadata": {},
   "outputs": [
    {
     "data": {
      "text/plain": [
       "count       397.000000\n",
       "mean       3172.831234\n",
       "std       12462.978102\n",
       "min           1.000000\n",
       "25%          78.000000\n",
       "50%         326.000000\n",
       "75%        1495.000000\n",
       "max      155395.000000\n",
       "Name: trip_count_start, dtype: float64"
      ]
     },
     "execution_count": 884,
     "metadata": {},
     "output_type": "execute_result"
    }
   ],
   "source": [
    "# stats about predicting field after dropping nulls\n",
    "data['trip_count_start'].describe()"
   ]
  },
  {
   "cell_type": "code",
   "execution_count": 885,
   "metadata": {},
   "outputs": [],
   "source": [
    "# split data into test and train set for validation\n",
    "# fracnum is the percentage of whole\n",
    "fracNum = 0.30\n",
    "train_set = data.sample(frac = fracNum)\n",
    "test_set = data.drop(train_set.index)"
   ]
  },
  {
   "cell_type": "code",
   "execution_count": 886,
   "metadata": {},
   "outputs": [],
   "source": [
    "# demographic fields to use as indicators\n",
    "x_cols = ['geoid_text',\n",
    "        'populationtotals_totpop_cy',\n",
    "        'populationtotals_popdens_cy', \n",
    "        'householdincome_medhinc_cy_i',\n",
    "        'foodstampssnap_acssnap_p', \n",
    "        'raceandhispanicorigin_divindx_cy',\n",
    "        'educationalattainment_acssomehs_p', \n",
    "        'atrisk_acshhbpov_p']\n",
    "\n",
    "# field to predict from regressions\n",
    "y_cols = 'trip_count_start'\n",
    "\n",
    "# indicate fields to be used in multilinear regression\n",
    "trainID = train_set['geoid_text']\n",
    "X_train = train_set[x_cols].drop('geoid_text',axis=1).copy()\n",
    "y_train = train_set[y_cols]    \n",
    "              \n",
    "# format test set\n",
    "testID = test_set['geoid_text'] # unique identifier of the test set\n",
    "X_test = test_set[x_cols].drop('geoid_text',axis=1).copy()\n",
    "y_test = test_set[y_cols]"
   ]
  },
  {
   "cell_type": "code",
   "execution_count": 887,
   "metadata": {},
   "outputs": [],
   "source": [
    "# remove geoid_text because it will not be used as a value to \n",
    "# help predict total escooter trips\n",
    "x_cols.remove(\"geoid_text\")"
   ]
  },
  {
   "cell_type": "markdown",
   "metadata": {},
   "source": [
    "### Random Forest Regression"
   ]
  },
  {
   "cell_type": "code",
   "execution_count": 888,
   "metadata": {},
   "outputs": [
    {
     "name": "stdout",
     "output_type": "stream",
     "text": [
      "Training score: 0.9085703503389673\n",
      "Testing score: 0.20370244286032368\n",
      "MAE of Random Forest Regression: 3380.188964028777 \n",
      "\n"
     ]
    }
   ],
   "source": [
    "# run random forest regression\n",
    "rf_regr = RandomForestRegressor(n_estimators = 1000, random_state=0)\n",
    "_ = rf_regr.fit(X_train, y_train) # create and train trees\n",
    "rf_preds=rf_regr.predict(X_test) # predict values in X_test dataset\n",
    "\n",
    "print(\"Training score:\", rf_regr.score(X_train, y_train))\n",
    "print(\"Testing score:\", rf_regr.score(X_test, y_test))\n",
    "print(\"MAE of Random Forest Regression:\", mean_absolute_error(y_test, rf_preds), '\\n')"
   ]
  },
  {
   "cell_type": "code",
   "execution_count": null,
   "metadata": {},
   "outputs": [],
   "source": []
  },
  {
   "cell_type": "code",
   "execution_count": 889,
   "metadata": {},
   "outputs": [],
   "source": [
    "# check collinearity between variables in dataset\n",
    "corr = data.astype('float64').corr()"
   ]
  },
  {
   "cell_type": "markdown",
   "metadata": {},
   "source": [
    "### Linear Regression"
   ]
  },
  {
   "cell_type": "code",
   "execution_count": 890,
   "metadata": {},
   "outputs": [
    {
     "name": "stdout",
     "output_type": "stream",
     "text": [
      "Training score: 0.7082435839968743\n",
      "Testing score: 0.28250883504504376\n",
      "MAE of Linear Regression: 4283.293753799653 \n",
      "\n"
     ]
    }
   ],
   "source": [
    "# run linear regression\n",
    "lin_reg = LinearRegression()\n",
    "_ = lin_reg.fit(X_train, y_train)\n",
    "lr_preds = lin_reg.predict(X_test)\n",
    "\n",
    "print(\"Training score:\", lin_reg.score(X_train, y_train)) # r-squared\n",
    "print(\"Testing score:\", lin_reg.score(X_test, y_test))\n",
    "print(\"MAE of Linear Regression:\", mean_absolute_error(y_test, lr_preds), '\\n')"
   ]
  },
  {
   "cell_type": "markdown",
   "metadata": {},
   "source": [
    "### Ridge Linear Regression"
   ]
  },
  {
   "cell_type": "code",
   "execution_count": 891,
   "metadata": {},
   "outputs": [
    {
     "name": "stdout",
     "output_type": "stream",
     "text": [
      "Training score: 0.7082435839809076\n",
      "Testing score: 0.28250834290618076\n",
      "MAE of Ridge Regression: 4283.2902652377215 \n",
      "\n"
     ]
    }
   ],
   "source": [
    "# run ridge linear regression\n",
    "# based on data, ridge is not a good method because data is not have multicollinearity\n",
    "ridge = Ridge(alpha=0.1) # alpha can be altered\n",
    "_ = ridge.fit(X_train, y_train)\n",
    "r_preds = ridge.predict(X_test)\n",
    "\n",
    "print(\"Training score:\", ridge.score(X_train, y_train))\n",
    "print(\"Testing score:\", ridge.score(X_test, y_test))\n",
    "print(\"MAE of Ridge Regression:\", mean_absolute_error(y_test, r_preds), '\\n')\n"
   ]
  },
  {
   "cell_type": "markdown",
   "metadata": {},
   "source": [
    "### Create results table"
   ]
  },
  {
   "cell_type": "code",
   "execution_count": 892,
   "metadata": {},
   "outputs": [],
   "source": [
    "# create results table with the predicted vals from each regression\n",
    "# add geoid to join with spatial data\n",
    "results = X_test\n",
    "\n",
    "results[\"geoid\"] = testID\n",
    "results[\"test_counts\"] = y_test\n",
    "results[\"rf_predicted\"] = rf_preds\n",
    "results[\"lr_predicted\"] = lr_preds\n",
    "results[\"r_predicted\"]= r_preds"
   ]
  },
  {
   "cell_type": "code",
   "execution_count": 893,
   "metadata": {},
   "outputs": [],
   "source": [
    "outpath=r\"C:\\Users\\msong\\Desktop\\Independent proj\"\n",
    "results.to_csv(os.path.join(outpath,\"results.csv\"),index=False)"
   ]
  },
  {
   "cell_type": "code",
   "execution_count": null,
   "metadata": {},
   "outputs": [],
   "source": []
  }
 ],
 "metadata": {
  "kernelspec": {
   "display_name": "Python 3",
   "language": "python",
   "name": "python3"
  },
  "language_info": {
   "codemirror_mode": {
    "name": "ipython",
    "version": 3
   },
   "file_extension": ".py",
   "mimetype": "text/x-python",
   "name": "python",
   "nbconvert_exporter": "python",
   "pygments_lexer": "ipython3",
   "version": "3.7.10"
  }
 },
 "nbformat": 4,
 "nbformat_minor": 2
}
