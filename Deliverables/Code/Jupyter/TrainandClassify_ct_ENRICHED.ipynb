{
 "cells": [
  {
   "cell_type": "markdown",
   "metadata": {},
   "source": [
    "## Train and Classify - Enriched Census Tracts\n",
    "\n",
    "This script explores different machine learning regressions to predict total e-scooter trip counts for census tracts in Minneapolis MN. The demographic data is sourced from ESRI Enrich tool. The regressions explored are Random Forest, Linear, and Ridge regression. \n",
    "\n",
    "The script requires sklearn, pandas, and an ArcGIS pro license.\n",
    "\n",
    "Data sources: ACS-Survey 2014-2018 5-year Estimates, ACS-Survey 2015-2019 5-year Estimates, City of Minneapolis, U.S. Census Bureau"
   ]
  },
  {
   "cell_type": "code",
   "execution_count": null,
   "metadata": {},
   "outputs": [],
   "source": [
    "import pandas as pd\n",
    "from sklearn.linear_model import LinearRegression, Ridge\n",
    "from sklearn.metrics import mean_absolute_error\n",
    "from sklearn.linear_model import PoissonRegressor\n",
    "from sklearn.model_selection import train_test_split\n",
    "from sklearn.pipeline import Pipeline\n",
    "from sklearn import metrics\n",
    "from sklearn import preprocessing\n",
    "from sklearn.preprocessing import StandardScaler\n",
    "from sklearn.ensemble import RandomForestClassifier"
   ]
  },
  {
   "cell_type": "code",
   "execution_count": null,
   "metadata": {},
   "outputs": [],
   "source": [
    "year = \"2018\"\n",
    "file_path = f\"C:/Users/msong/Desktop/Independent proj/tripcounts_{year}_enriched.csv\"\n",
    "\n",
    "cols = ['GISJOINID', \n",
    "        'year',\n",
    "        'SUM_TripCount',\n",
    "        'populationtotals_totpop_cy',\n",
    "        'populationtotals_popdens_cy', \n",
    "        'householdincome_medhinc_cy_i', \n",
    "        'raceandhispanicorigin_divindx_cy',\n",
    "        'educationalattainment_hsgrad_cy_p',\n",
    "        'educationalattainment_asscdeg_cy_p',\n",
    "        'educationalattainment_bachdeg_cy_p',\n",
    "        'educationalattainment_graddeg_cy_p', \n",
    "        'households_acshhbpov_p',\n",
    "        'employmentunemployment_unemprt_cy', \n",
    "        'raceandhispanicorigin_white_cy_p']\n",
    "df = pd.read_csv(file_path,usecols=cols)"
   ]
  },
  {
   "cell_type": "code",
   "execution_count": null,
   "metadata": {},
   "outputs": [],
   "source": [
    "df['householdincome_medhinc_cy_i'].describe()"
   ]
  },
  {
   "cell_type": "code",
   "execution_count": null,
   "metadata": {},
   "outputs": [],
   "source": [
    "# create df that do not correspond with a census tract\n",
    "empty_df = df.loc[(df['GISJOINID'].isna())]"
   ]
  },
  {
   "cell_type": "code",
   "execution_count": null,
   "metadata": {},
   "outputs": [],
   "source": [
    "# dataset with no null vals\n",
    "data = df[df['GISJOINID'].notna()].drop('GISJOINID',axis=1).astype(int)\n"
   ]
  },
  {
   "cell_type": "code",
   "execution_count": null,
   "metadata": {},
   "outputs": [],
   "source": [
    "data['SUM_TripCount'].describe()"
   ]
  },
  {
   "cell_type": "code",
   "execution_count": null,
   "metadata": {},
   "outputs": [],
   "source": [
    "corr = data.astype('float64').corr()"
   ]
  },
  {
   "cell_type": "code",
   "execution_count": null,
   "metadata": {},
   "outputs": [],
   "source": [
    "# split data into test and train set for validation\n",
    "# fracnum is the percentage\n",
    "fracNum = 0.30\n",
    "train_set = data.sample(frac = fracNum)\n",
    "test_set = data.drop(train_set.index)"
   ]
  },
  {
   "cell_type": "code",
   "execution_count": null,
   "metadata": {},
   "outputs": [],
   "source": [
    "# demographic fields to serve as input values in input\n",
    "x_cols = ['populationtotals_totpop_cy',\n",
    "          'populationtotals_popdens_cy', \n",
    "          'householdincome_medhinc_cy_i',\n",
    "          'raceandhispanicorigin_divindx_cy', \n",
    "          'educationalattainment_hsgrad_cy_p',\n",
    "          'educationalattainment_asscdeg_cy_p',\n",
    "          'educationalattainment_bachdeg_cy_p',\n",
    "          'educationalattainment_graddeg_cy_p', \n",
    "          'households_acshhbpov_p',\n",
    "          'employmentunemployment_unemprt_cy',\n",
    "          'raceandhispanicorigin_white_cy_p']\n",
    "\n",
    "# field to predict\n",
    "y_cols = 'SUM_TripCount'\n",
    "\n",
    "# create training sets\n",
    "X_train = train_set[x_cols]\n",
    "y_train = train_set[y_cols]           \n",
    "              "
   ]
  },
  {
   "cell_type": "code",
   "execution_count": null,
   "metadata": {},
   "outputs": [],
   "source": [
    "# create test set\n",
    "X_test = test_set[x_cols]\n",
    "y_test = test_set[y_cols]"
   ]
  },
  {
   "cell_type": "markdown",
   "metadata": {},
   "source": [
    "### Linear Regression"
   ]
  },
  {
   "cell_type": "code",
   "execution_count": null,
   "metadata": {},
   "outputs": [],
   "source": [
    "# run linear regression\n",
    "lin_reg = LinearRegression()\n",
    "_ = lin_reg.fit(X_train, y_train) # train and compute regression\n",
    "preds = lin_reg.predict(X_test) # predict scores\n",
    "\n",
    "print(\"Training score:\", lin_reg.score(X_train, y_train))\n",
    "print(\"Testing score:\", lin_reg.score(X_test, y_test))\n",
    "print(\"MAE of Linear Regression:\", mean_absolute_error(y_test, preds), '\\n')"
   ]
  },
  {
   "cell_type": "markdown",
   "metadata": {},
   "source": [
    "### Ridge Regression"
   ]
  },
  {
   "cell_type": "code",
   "execution_count": null,
   "metadata": {},
   "outputs": [],
   "source": [
    "# based on data, ridge is not a good method because data is not have multicollinearity\n",
    "ridge = Ridge(alpha=0.1) # alpha can be altered\n",
    "_ = ridge.fit(X_train, y_train) # train and compute regression\n",
    "preds = ridge.predict(X_test) # predict scores\n",
    "\n",
    "print(\"Training score:\", ridge.score(X_train, y_train))\n",
    "print(\"Testing score:\", ridge.score(X_test, y_test))\n",
    "print(\"MAE of Ridge Regression:\", mean_absolute_error(y_test, preds), '\\n')\n"
   ]
  },
  {
   "cell_type": "markdown",
   "metadata": {},
   "source": [
    "### Random Forest Classifier\n",
    "\n",
    "This was attempted before running the Random Forest regression"
   ]
  },
  {
   "cell_type": "code",
   "execution_count": null,
   "metadata": {},
   "outputs": [],
   "source": [
    "# https://scikit-learn.org/stable/modules/generated/sklearn.ensemble.RandomForestClassifier.html\n",
    "clf=RandomForestClassifier(n_estimators=100,bootstrap=False,warm_start=True)\n",
    "clf.fit(X_train,y_train)\n",
    "y_pred = clf.predict(X_test)\n",
    "\n",
    "print(\"Accuracy:\",metrics.accuracy_score(list(y_test), y_pred))"
   ]
  },
  {
   "cell_type": "markdown",
   "metadata": {},
   "source": [
    "### Random Forest Regression"
   ]
  },
  {
   "cell_type": "code",
   "execution_count": null,
   "metadata": {},
   "outputs": [],
   "source": [
    "# Train and run random forest regression\n",
    "rf_regr = RandomForestRegressor(n_estimators = 1000, random_state=0)\n",
    "_ = rf_regr.fit(X_train, y_train) # create trees in forest\n",
    "preds=rf_regr.predict(X_test) # predict values\n",
    "\n",
    "print(\"Training score:\", rf_regr.score(X_train, y_train))\n",
    "print(\"Testing score:\", rf_regr.score(X_test, y_test))\n",
    "print(\"MAE of Random Forest Regression:\", mean_absolute_error(y_test, preds), '\\n')"
   ]
  },
  {
   "cell_type": "code",
   "execution_count": null,
   "metadata": {},
   "outputs": [],
   "source": []
  }
 ],
 "metadata": {
  "kernelspec": {
   "display_name": "ArcGISPro",
   "language": "Python",
   "name": "python3"
  },
  "language_info": {
   "file_extension": ".py",
   "name": "python",
   "version": "3"
  }
 },
 "nbformat": 4,
 "nbformat_minor": 2
}
